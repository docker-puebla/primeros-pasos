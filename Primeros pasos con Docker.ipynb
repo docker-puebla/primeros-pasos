{
 "cells": [
  {
   "cell_type": "markdown",
   "metadata": {
    "slideshow": {
     "slide_type": "slide"
    }
   },
   "source": [
    "<img class=\"img-responsive center-block\" src=\"https://upload.wikimedia.org/wikipedia/commons/7/79/Docker_%28container_engine%29_logo.png\">\n",
    "<h1 class=\"text-right\">Mini taller<h1>\n"
   ]
  },
  {
   "cell_type": "markdown",
   "metadata": {
    "slideshow": {
     "slide_type": "slide"
    }
   },
   "source": [
    "## Contenido\n",
    "\n",
    "- Docker\n",
    "- Instalación\n",
    "- Componentes de docker\n",
    "- Dockerizar mi aplicación"
   ]
  },
  {
   "cell_type": "markdown",
   "metadata": {
    "slideshow": {
     "slide_type": "slide"
    }
   },
   "source": [
    "## Linux\n",
    "\n",
    "- Versión del kernel minima requerida: 3.10\n",
    "\n",
    "- Agregar clave gpg"
   ]
  },
  {
   "cell_type": "code",
   "execution_count": null,
   "metadata": {
    "collapsed": false,
    "slideshow": {
     "slide_type": "fragment"
    }
   },
   "outputs": [],
   "source": [
    "sudo apt-key adv --keyserver hkp://p80.pool.sks-keyservers.net:80 --recv-keys 58118E89F3A912897C070ADBF76221572C52609D"
   ]
  },
  {
   "cell_type": "markdown",
   "metadata": {
    "slideshow": {
     "slide_type": "subslide"
    }
   },
   "source": [
    "- Agrega el repositorio de Docker para apt"
   ]
  },
  {
   "cell_type": "code",
   "execution_count": null,
   "metadata": {
    "collapsed": true,
    "slideshow": {
     "slide_type": "fragment"
    }
   },
   "outputs": [],
   "source": [
    "echo \"deb https://apt.dockerproject.org/repo ubuntu-trusty main\" > /etc/apt/sources.list.d/docker.list"
   ]
  },
  {
   "cell_type": "markdown",
   "metadata": {
    "slideshow": {
     "slide_type": "subslide"
    }
   },
   "source": [
    "- (extra) Instalar drivers extra para AUF"
   ]
  },
  {
   "cell_type": "code",
   "execution_count": null,
   "metadata": {
    "collapsed": true,
    "slideshow": {
     "slide_type": "fragment"
    }
   },
   "outputs": [],
   "source": [
    "sudo apt-get update\n",
    "sudo apt-get install linux-image-extra-$(uname -r)"
   ]
  },
  {
   "cell_type": "markdown",
   "metadata": {
    "slideshow": {
     "slide_type": "subslide"
    }
   },
   "source": [
    "- Instalar Docker"
   ]
  },
  {
   "cell_type": "code",
   "execution_count": null,
   "metadata": {
    "collapsed": true,
    "slideshow": {
     "slide_type": "fragment"
    }
   },
   "outputs": [],
   "source": [
    "sudo apt-get install docker-engine"
   ]
  },
  {
   "cell_type": "markdown",
   "metadata": {},
   "source": [
    "- Si es requerido iniciar el servicio"
   ]
  },
  {
   "cell_type": "code",
   "execution_count": null,
   "metadata": {
    "collapsed": true
   },
   "outputs": [],
   "source": [
    "sudo service docker start"
   ]
  },
  {
   "cell_type": "markdown",
   "metadata": {},
   "source": [
    "- Ser parte del grupo de Docker, (ejecutar docker sin ser super user)"
   ]
  },
  {
   "cell_type": "code",
   "execution_count": null,
   "metadata": {
    "collapsed": true
   },
   "outputs": [],
   "source": [
    "sudo usermod -aG docker <usuario>"
   ]
  },
  {
   "cell_type": "markdown",
   "metadata": {},
   "source": [
    "## Mac and Windows\n",
    "\n",
    "- Docker Toolbox - Compatible with Mac OS X 10.8+ and Windows 7+\n",
    " "
   ]
  },
  {
   "cell_type": "markdown",
   "metadata": {},
   "source": [
    "## Imagenes, contenedores y otras bestias"
   ]
  },
  {
   "cell_type": "code",
   "execution_count": 1,
   "metadata": {
    "collapsed": false
   },
   "outputs": [
    {
     "name": "stdout",
     "output_type": "stream",
     "text": [
      "Client:\r\n",
      " Version:      1.9.1\r\n",
      " API version:  1.21\r\n",
      " Go version:   go1.4.2\r\n",
      " Git commit:   a34a1d5\r\n",
      " Built:        Fri Nov 20 13:12:04 UTC 2015\r\n",
      " OS/Arch:      linux/amd64\r\n",
      "\r\n",
      "Server:\r\n",
      " Version:      1.9.1\r\n",
      " API version:  1.21\r\n",
      " Go version:   go1.4.2\r\n",
      " Git commit:   a34a1d5\r\n",
      " Built:        Fri Nov 20 13:12:04 UTC 2015\r\n",
      " OS/Arch:      linux/amd64\r\n"
     ]
    }
   ],
   "source": [
    "docker version"
   ]
  },
  {
   "cell_type": "markdown",
   "metadata": {},
   "source": [
    "### Images\n",
    "\n",
    "Es un snapshot de las dependencias, pasos a realizar y utilerias de una aplicación.\n",
    "\n",
    "Tres formas de obtener imagenes:\n",
    "  - [Repositorio](https://hub.docker.com/)\n",
    "  - Construirlo mediante Dockerfile\n",
    "  - Artesanal - (Manual)\n",
    "  \n",
    "  \n",
    "### Container\n",
    "\n",
    "Es una instancia de la imagen, lleva acabo la ejecución de la aplicación aislada del mundo a excepción que especifiquemos recursos compartidos o puntos de conexión.\n",
    "\n",
    "  - **Binding**: Ligar un archivo local al contenedor\n",
    "  - **Volumen**: Un contenedor actua almacenamiento\n",
    "  - **Port binding**: Asociar un puerto del host al contenedor."
   ]
  },
  {
   "cell_type": "markdown",
   "metadata": {
    "collapsed": true
   },
   "source": [
    "## Dockerizar mi aplicación\n",
    "\n",
    "- Busqueda y descarga de imagen base.\n",
    "- Levantar un contenedor.\n",
    "- Constuir la imagen para nuestra app\n",
    "- Exponer la aplicación al mundo\n",
    "- Enlazar la base de datos"
   ]
  },
  {
   "cell_type": "code",
   "execution_count": 3,
   "metadata": {
    "collapsed": false
   },
   "outputs": [
    {
     "name": "stdout",
     "output_type": "stream",
     "text": [
      "NAME                         DESCRIPTION                                     STARS     OFFICIAL   AUTOMATED\r\n",
      "alpine                       A minimal Docker image based on Alpine Lin...   427       [OK]       \r\n",
      "frolvlad/alpine-oraclejdk8   The smallest Docker image with OracleJDK 8...   40                   [OK]\r\n",
      "anapsix/alpine-java          Oracle Java8 with GLIBC 2.21 over AlpineLinux   19                   [OK]\r\n"
     ]
    }
   ],
   "source": [
    "docker search --stars=10 alpine"
   ]
  },
  {
   "cell_type": "code",
   "execution_count": 34,
   "metadata": {
    "collapsed": false
   },
   "outputs": [
    {
     "name": "stdout",
     "output_type": "stream",
     "text": [
      "Using default tag: latest\r\n",
      "latest: Pulling from library/alpine\r\n",
      "\u001b[0BDigest: sha256:78a756d480bcbc35db6dcc05b08228a39b32c2b2c7e02336a2dcaa196547a41d\r\n",
      "Status: Downloaded newer image for alpine:latest\r\n"
     ]
    }
   ],
   "source": [
    "docker pull alpine"
   ]
  },
  {
   "cell_type": "code",
   "execution_count": 16,
   "metadata": {
    "collapsed": false
   },
   "outputs": [
    {
     "name": "stdout",
     "output_type": "stream",
     "text": [
      "FROM alpine\r\n",
      "MAINTAINER \"Miguel Angel Gordian\"\r\n",
      "\r\n",
      "WORKDIR /home/app\r\n",
      "ADD . /home/app\r\n",
      "\r\n",
      "# RUN adduser -D app\r\n",
      "RUN apk update &&     apk add py-pip &&     pip install -r requirements.txt\r\n",
      "\r\n",
      "# USER app\r\n",
      "\r\n",
      "EXPOSE 80\r\n",
      "\r\n",
      "ENTRYPOINT python index.py\r\n"
     ]
    }
   ],
   "source": [
    "cat > Dockerfile <<- END\n",
    "FROM alpine\n",
    "MAINTAINER \"Miguel Angel Gordian\"\n",
    "\n",
    "WORKDIR /home/app\n",
    "ADD . /home/app\n",
    "\n",
    "# RUN adduser -D app\n",
    "RUN apk update && \\\n",
    "    apk add py-pip && \\\n",
    "    pip install -r requirements.txt\n",
    "\n",
    "# USER app\n",
    "\n",
    "EXPOSE 80\n",
    "\n",
    "ENTRYPOINT python index.py\n",
    "END\n",
    "\n",
    "cat Dockerfile"
   ]
  },
  {
   "cell_type": "code",
   "execution_count": 17,
   "metadata": {
    "collapsed": false
   },
   "outputs": [
    {
     "name": "stdout",
     "output_type": "stream",
     "text": [
      "Sending build context to Docker daemon 60.93 kB\r",
      "Sending build context to Docker daemon 60.93 kB\r",
      "\r",
      "\r\n",
      "Step 1 : FROM alpine\r\n",
      " ---> 74e49af2062e\r\n",
      "Step 2 : MAINTAINER \"Miguel Angel Gordian\"\r\n",
      " ---> Using cache\r\n",
      " ---> 45216bf2d6ad\r\n",
      "Step 3 : WORKDIR /home/app\r\n",
      " ---> Using cache\r\n",
      " ---> 081a21a3dd3d\r\n",
      "Step 4 : ADD . /home/app\r\n",
      " ---> 7a6b6340b39c\r\n",
      "Removing intermediate container d99d763bd80e\r\n",
      "Step 5 : RUN apk update &&     apk add py-pip &&     pip install -r requirements.txt\r\n",
      " ---> Running in b4e3e32eb523\r\n",
      "fetch http://dl-4.alpinelinux.org/alpine/v3.3/main/x86_64/APKINDEX.tar.gz\r\n",
      "fetch http://dl-4.alpinelinux.org/alpine/v3.3/community/x86_64/APKINDEX.tar.gz\r\n",
      "v3.3.1-2-g6c5f200 [http://dl-4.alpinelinux.org/alpine/v3.3/main]\r\n",
      "v3.3.0_rc3-205-g8864778 [http://dl-4.alpinelinux.org/alpine/v3.3/community]\r\n",
      "OK: 5854 distinct packages available\r\n",
      "(1/12) Installing libbz2 (1.0.6-r4)\r\n",
      "(2/12) Installing expat (2.1.0-r2)\r\n",
      "(3/12) Installing libffi (3.2.1-r1)\r\n",
      "(4/12) Installing gdbm (1.11-r1)\r\n",
      "(5/12) Installing ncurses-terminfo-base (6.0-r6)\r\n",
      "(6/12) Installing ncurses-terminfo (6.0-r6)\r\n",
      "(7/12) Installing ncurses-libs (6.0-r6)\r\n",
      "(8/12) Installing readline (6.3.008-r4)\r\n",
      "(9/12) Installing sqlite-libs (3.9.2-r0)\r\n",
      "(10/12) Installing python (2.7.11-r2)\r\n",
      "(11/12) Installing py-setuptools (18.8-r0)\r\n",
      "(12/12) Installing py-pip (7.1.2-r0)\r\n",
      "Executing busybox-1.24.1-r7.trigger\r\n",
      "OK: 59 MiB in 23 packages\r\n",
      "Collecting flask (from -r requirements.txt (line 1))\r\n",
      "  Downloading Flask-0.10.1.tar.gz (544kB)\r\n",
      "Collecting Werkzeug>=0.7 (from flask->-r requirements.txt (line 1))\r\n",
      "  Downloading Werkzeug-0.11.3-py2.py3-none-any.whl (305kB)\r\n",
      "Collecting Jinja2>=2.4 (from flask->-r requirements.txt (line 1))\r\n",
      "  Downloading Jinja2-2.8-py2.py3-none-any.whl (263kB)\r\n",
      "Collecting itsdangerous>=0.21 (from flask->-r requirements.txt (line 1))\r\n",
      "  Downloading itsdangerous-0.24.tar.gz (46kB)\r\n",
      "Collecting MarkupSafe (from Jinja2>=2.4->flask->-r requirements.txt (line 1))\r\n",
      "  Downloading MarkupSafe-0.23.tar.gz\r\n",
      "Installing collected packages: Werkzeug, MarkupSafe, Jinja2, itsdangerous, flask\r\n",
      "  Running setup.py install for MarkupSafe\r\n",
      "  Running setup.py install for itsdangerous\r\n",
      "  Running setup.py install for flask\r\n",
      "Successfully installed Jinja2-2.8 MarkupSafe-0.23 Werkzeug-0.11.3 flask-0.10.1 itsdangerous-0.24\r\n",
      " ---> a7a732cac802\r\n",
      "Removing intermediate container b4e3e32eb523\r\n",
      "Step 6 : EXPOSE 80\r\n",
      " ---> Running in 30dc6cff8b79\r\n",
      " ---> bfdc7180ee3e\r\n",
      "Removing intermediate container 30dc6cff8b79\r\n",
      "Step 7 : ENTRYPOINT python index.py\r\n",
      " ---> Running in c47ecc74eab4\r\n",
      " ---> 8442db1b9863\r\n",
      "Removing intermediate container c47ecc74eab4\r\n",
      "Successfully built 8442db1b9863\r\n"
     ]
    }
   ],
   "source": [
    "docker build -t superapp ."
   ]
  },
  {
   "cell_type": "code",
   "execution_count": 18,
   "metadata": {
    "collapsed": false
   },
   "outputs": [
    {
     "name": "stdout",
     "output_type": "stream",
     "text": [
      "superapp_1\r\n",
      "ecdf4d68227ae60150092890c91f3f47217b08a735f31f68edd87118b35a4b48\r\n"
     ]
    }
   ],
   "source": [
    "docker rm -f superapp_1\n",
    "docker run -d --name superapp_1 superapp"
   ]
  },
  {
   "cell_type": "code",
   "execution_count": 33,
   "metadata": {
    "collapsed": false
   },
   "outputs": [
    {
     "name": "stdout",
     "output_type": "stream",
     "text": [
      "CONTAINER ID        IMAGE               COMMAND                  CREATED             STATUS                PORTS                      NAMES\r\n",
      "ecdf4d68227a        superapp            \"/bin/sh -c 'python i\"   10 minutes ago      Up 10 minutes         80/tcp                     superapp_1\r\n",
      "379013fdbb35        alpine              \"top\"                    2 hours ago         Up 2 hours (Paused)                              suspicious_sinoussi\r\n",
      "fe81324fbb4e        postgres            \"/docker-entrypoint.s\"   44 hours ago        Up 2 hours            127.0.0.1:5432->5432/tcp   postgres\r\n"
     ]
    }
   ],
   "source": [
    "docker ps"
   ]
  },
  {
   "cell_type": "code",
   "execution_count": 28,
   "metadata": {
    "collapsed": false
   },
   "outputs": [
    {
     "name": "stdout",
     "output_type": "stream",
     "text": [
      " * Running on http://0.0.0.0:80/ (Press CTRL+C to quit)\r\n"
     ]
    }
   ],
   "source": [
    "docker logs superapp_1"
   ]
  },
  {
   "cell_type": "code",
   "execution_count": 39,
   "metadata": {
    "collapsed": false
   },
   "outputs": [
    {
     "name": "stdout",
     "output_type": "stream",
     "text": [
      "La IP asignada al contenedor superapp: 172.17.0.4\r\n"
     ]
    }
   ],
   "source": [
    "# check\n",
    "IP=`docker inspect -f \"{{ .NetworkSettings.IPAddress }}\" superapp_1`\n",
    "echo \"La IP asignada al contenedor superapp: $IP\"\n",
    "firefox $IP"
   ]
  },
  {
   "cell_type": "code",
   "execution_count": 46,
   "metadata": {
    "collapsed": false
   },
   "outputs": [
    {
     "name": "stdout",
     "output_type": "stream",
     "text": [
      "--> Elimina si existe una instancia de supeapp_2\r\n",
      "superapp_2\r\n",
      "--> Inicia contenedor con comunicación hacia el exterior\r\n",
      "fdf3e7a421bf8741e0510f3180c37232b8ed84c7a03acc3b42a1cfea0f9ede09\r\n",
      "--> Puertos externos asociados al contenedor\r\n",
      "0.0.0.0:80\r\n"
     ]
    }
   ],
   "source": [
    "echo \"--> Elimina si existe una instancia de supeapp_2\"\n",
    "docker rm -f superapp_2\n",
    "\n",
    "echo \"--> Inicia contenedor con comunicación hacia el exterior\"\n",
    "docker run -d -p 0.0.0.0:80:80 --name superapp_2 superapp\n",
    "\n",
    "echo \"--> Puertos externos asociados al contenedor\"\n",
    "IP_PORT=`docker port superapp_2 80`\n",
    "echo $IP_PORT\n",
    "firefox $IP_PORT"
   ]
  },
  {
   "cell_type": "markdown",
   "metadata": {},
   "source": [
    "## Recursos\n",
    "\n",
    "- [Instalación en Mac](https://docs.docker.com/mac/step_one/)\n",
    "- [Instalación en Windows](https://docs.docker.com/windows/step_one/)\n",
    "- [Instalacion en Linux](https://docs.docker.com/engine/installation/ubuntulinux/)\n",
    "- [Docker 101](http://slides.com/miguelangelgordian/docker-101)\n",
    "- [Manejo de paquetes para alpine](http://wiki.alpinelinux.org/wiki/Alpine_Linux_package_management)"
   ]
  }
 ],
 "metadata": {
  "kernelspec": {
   "display_name": "Bash",
   "language": "bash",
   "name": "bash"
  },
  "language_info": {
   "codemirror_mode": "shell",
   "file_extension": ".sh",
   "mimetype": "text/x-sh",
   "name": "bash"
  }
 },
 "nbformat": 4,
 "nbformat_minor": 0
}
